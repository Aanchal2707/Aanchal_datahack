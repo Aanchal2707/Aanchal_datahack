{
 "cells": [
  {
   "cell_type": "code",
   "execution_count": 3,
   "id": "f70e5fc9",
   "metadata": {},
   "outputs": [],
   "source": [
    "import pandas as pd\n",
    "import numpy as np\n",
    "from sklearn.model_selection import train_test_split\n",
    "from sklearn.preprocessing import OneHotEncoder, StandardScaler\n",
    "from sklearn.compose import ColumnTransformer\n",
    "from sklearn.pipeline import Pipeline\n",
    "from sklearn.impute import SimpleImputer\n",
    "from sklearn.linear_model import LogisticRegression\n",
    "from sklearn.ensemble import RandomForestClassifier\n",
    "from sklearn.metrics import roc_auc_score\n",
    "from sklearn.multioutput import MultiOutputClassifier"
   ]
  },
  {
   "cell_type": "code",
   "execution_count": null,
   "id": "dcc02efd",
   "metadata": {},
   "outputs": [],
   "source": []
  },
  {
   "cell_type": "code",
   "execution_count": 4,
   "id": "ae42487a",
   "metadata": {},
   "outputs": [],
   "source": [
    "# Load datasets\n",
    "train_features = pd.read_csv('Downloads/dataset and all/training_set_features.csv')\n",
    "train_labels = pd.read_csv('Downloads/dataset and all/training_set_labels.csv')\n",
    "test_features = pd.read_csv('Downloads/dataset and all/test_set_features.csv')\n",
    "submission_format = pd.read_csv('Downloads/dataset and all/submission_format.csv')"
   ]
  },
  {
   "cell_type": "code",
   "execution_count": 5,
   "id": "396c560a",
   "metadata": {},
   "outputs": [],
   "source": [
    "# Merge the features and labels for training\n",
    "train_data = pd.merge(train_features, train_labels, on='respondent_id')"
   ]
  },
  {
   "cell_type": "code",
   "execution_count": 6,
   "id": "0b131a9e",
   "metadata": {},
   "outputs": [],
   "source": [
    "# Split features and labels\n",
    "X_train = train_data.drop(columns=['respondent_id', 'xyz_vaccine', 'seasonal_vaccine'])\n",
    "y_train = train_data[['xyz_vaccine', 'seasonal_vaccine']]\n",
    "X_test = test_features.drop(columns=['respondent_id'])"
   ]
  },
  {
   "cell_type": "code",
   "execution_count": 7,
   "id": "ea483c06",
   "metadata": {},
   "outputs": [],
   "source": [
    "# Identify categorical and numerical columns\n",
    "categorical_cols = X_train.select_dtypes(include=['object']).columns\n",
    "numerical_cols = X_train.select_dtypes(include=['int64', 'float64']).columns"
   ]
  },
  {
   "cell_type": "code",
   "execution_count": 8,
   "id": "8fb3542c",
   "metadata": {},
   "outputs": [],
   "source": [
    "# Preprocess the data\n",
    "numerical_transformer = Pipeline(steps=[\n",
    "    ('imputer', SimpleImputer(strategy='mean')),\n",
    "    ('scaler', StandardScaler())])\n",
    "\n",
    "categorical_transformer = Pipeline(steps=[\n",
    "    ('imputer', SimpleImputer(strategy='most_frequent')),\n",
    "    ('onehot', OneHotEncoder(handle_unknown='ignore'))])\n",
    "\n",
    "preprocessor = ColumnTransformer(\n",
    "    transformers=[\n",
    "        ('num', numerical_transformer, numerical_cols),\n",
    "        ('cat', categorical_transformer, categorical_cols)])"
   ]
  },
  {
   "cell_type": "code",
   "execution_count": 9,
   "id": "b46f675b",
   "metadata": {},
   "outputs": [],
   "source": [
    "# Create a preprocessing and modeling pipeline\n",
    "model = MultiOutputClassifier(RandomForestClassifier(random_state=42))\n",
    "\n",
    "clf = Pipeline(steps=[\n",
    "    ('preprocessor', preprocessor),\n",
    "    ('classifier', model)])\n",
    "\n",
    "# Split the training data for validation\n",
    "X_train_split, X_val_split, y_train_split, y_val_split = train_test_split(X_train, y_train, test_size=0.2, random_state=42)\n",
    "\n",
    "# Train the model\n",
    "clf.fit(X_train_split, y_train_split)\n",
    "\n",
    "# Predict on the validation set\n",
    "y_val_pred = clf.predict_proba(X_val_split)"
   ]
  },
  {
   "cell_type": "code",
   "execution_count": 10,
   "id": "67648f48",
   "metadata": {},
   "outputs": [
    {
     "name": "stdout",
     "output_type": "stream",
     "text": [
      "ROC AUC for xyz_vaccine: 0.864173999277244\n",
      "ROC AUC for seasonal_vaccine: 0.8570519011081396\n",
      "Mean ROC AUC: 0.8606129501926918\n"
     ]
    }
   ],
   "source": [
    "# Calculate ROC AUC for each target variable\n",
    "roc_auc_xyz = roc_auc_score(y_val_split['xyz_vaccine'], y_val_pred[0][:, 1])\n",
    "roc_auc_seasonal = roc_auc_score(y_val_split['seasonal_vaccine'], y_val_pred[1][:, 1])\n",
    "print(f\"ROC AUC for xyz_vaccine: {roc_auc_xyz}\")\n",
    "print(f\"ROC AUC for seasonal_vaccine: {roc_auc_seasonal}\")\n",
    "print(f\"Mean ROC AUC: {(roc_auc_xyz + roc_auc_seasonal) / 2}\")\n",
    "\n",
    "# Predict on the test set\n",
    "y_test_pred = clf.predict_proba(X_test)\n",
    "\n",
    "# Prepare the submission file\n",
    "submission = pd.DataFrame({\n",
    "    'respondent_id': test_features['respondent_id'],\n",
    "    'xyz_vaccine': y_test_pred[0][:, 1],\n",
    "    'seasonal_vaccine': y_test_pred[1][:, 1]\n",
    "})\n",
    "\n",
    "# Save the submission file\n",
    "submission.to_csv('Downloads/dataset and all/submission.csv', index=False)"
   ]
  },
  {
   "cell_type": "code",
   "execution_count": null,
   "id": "7e27d32b",
   "metadata": {},
   "outputs": [],
   "source": []
  }
 ],
 "metadata": {
  "kernelspec": {
   "display_name": "Python 3 (ipykernel)",
   "language": "python",
   "name": "python3"
  },
  "language_info": {
   "codemirror_mode": {
    "name": "ipython",
    "version": 3
   },
   "file_extension": ".py",
   "mimetype": "text/x-python",
   "name": "python",
   "nbconvert_exporter": "python",
   "pygments_lexer": "ipython3",
   "version": "3.9.12"
  }
 },
 "nbformat": 4,
 "nbformat_minor": 5
}
